{
  "nbformat": 4,
  "nbformat_minor": 0,
  "metadata": {
    "colab": {
      "provenance": []
    },
    "kernelspec": {
      "name": "python3",
      "display_name": "Python 3"
    },
    "language_info": {
      "name": "python"
    }
  },
  "cells": [
    {
      "cell_type": "code",
      "execution_count": null,
      "metadata": {
        "colab": {
          "base_uri": "https://localhost:8080/"
        },
        "id": "dH9cebKVbkDK",
        "outputId": "feda9fca-1af1-446f-eb13-c93fa6f26cf7"
      },
      "outputs": [
        {
          "output_type": "stream",
          "name": "stdout",
          "text": [
            "30\n"
          ]
        }
      ],
      "source": [
        "num1=10\n",
        "num2=20\n",
        "add=num1+num2\n",
        "print(add)"
      ]
    },
    {
      "cell_type": "code",
      "source": [
        "print(\"Calculate the number\")\n",
        "num1=10\n",
        "print(\"Add the first number:\",num1)\n",
        "num2=20\n",
        "print(\"Add the second number:\",num2)\n",
        "add=num1+num2\n",
        "print(\"my answer is:\",add)\n"
      ],
      "metadata": {
        "colab": {
          "base_uri": "https://localhost:8080/"
        },
        "id": "X-4ErMkNcBdm",
        "outputId": "362e4b7a-9bd2-4a93-8bdf-f79376411fe2"
      },
      "execution_count": null,
      "outputs": [
        {
          "output_type": "stream",
          "name": "stdout",
          "text": [
            "Calculate the number\n",
            "Add the first number: 10\n",
            "Add the second number: 20\n",
            "my answer is: 30\n"
          ]
        }
      ]
    },
    {
      "cell_type": "code",
      "source": [
        "print(\"KYC\")\n",
        "Age=int(input(\"Enter your age\"))\n",
        "Height=int(input(\"Enter your height\"))\n",
        "add=Age+Height\n",
        "print(\"my total kyc is:\",add)"
      ],
      "metadata": {
        "colab": {
          "base_uri": "https://localhost:8080/"
        },
        "id": "KYSbC9IAc20t",
        "outputId": "601f2fa0-2e88-4cc7-e787-fbe1401fd2ad"
      },
      "execution_count": null,
      "outputs": [
        {
          "output_type": "stream",
          "name": "stdout",
          "text": [
            "KYC\n",
            "Enter your age10\n",
            "Enter your height20\n",
            "my total kyc is: 30\n"
          ]
        }
      ]
    },
    {
      "cell_type": "markdown",
      "source": [],
      "metadata": {
        "id": "J0Ds2jPMeakY"
      }
    },
    {
      "cell_type": "markdown",
      "source": [
        "Control structure"
      ],
      "metadata": {
        "id": "HEBWgyr_he6x"
      }
    },
    {
      "cell_type": "code",
      "source": [
        "age=int(input(\"Enter you age:\"))\n",
        "if(age==18):\n",
        "  print(\"Adult\")"
      ],
      "metadata": {
        "colab": {
          "base_uri": "https://localhost:8080/"
        },
        "id": "rq1XLUqVjMr_",
        "outputId": "801b66bc-b00c-4be2-eba5-8df26726d62c"
      },
      "execution_count": null,
      "outputs": [
        {
          "output_type": "stream",
          "name": "stdout",
          "text": [
            "Enter you age:18\n",
            "Adult\n"
          ]
        }
      ]
    },
    {
      "cell_type": "markdown",
      "source": [
        "#If else condition"
      ],
      "metadata": {
        "id": "hL-llSHukbrW"
      }
    },
    {
      "cell_type": "code",
      "source": [
        "age=int(input(\"Enter your age\"))\n",
        "if(age<=18):\n",
        "  print(\"You are not adult\")\n",
        "else:\n",
        "  print(\"You are adult\")"
      ],
      "metadata": {
        "colab": {
          "base_uri": "https://localhost:8080/"
        },
        "id": "1LfdCZp3jdiW",
        "outputId": "28508842-ad4f-407a-b630-4a2b9e37981c"
      },
      "execution_count": null,
      "outputs": [
        {
          "output_type": "stream",
          "name": "stdout",
          "text": [
            "Enter your age20\n",
            "You are adult\n"
          ]
        }
      ]
    },
    {
      "cell_type": "markdown",
      "source": [
        "Elif -Single input with multiple conditions"
      ],
      "metadata": {
        "id": "vVUO0CaWnihr"
      }
    },
    {
      "cell_type": "code",
      "source": [
        "age=int(input(\"Enter your age\"))\n",
        "if(age<18):\n",
        "  print(\"You are adult\")\n",
        "elif(age>60):\n",
        "    print(\"You are senior\")\n",
        "else:\n",
        "      print(\"You are child\")"
      ],
      "metadata": {
        "colab": {
          "base_uri": "https://localhost:8080/"
        },
        "id": "iXHMpSv4nkAl",
        "outputId": "ba3ed642-58bd-48e3-b686-bb933a8467a8"
      },
      "execution_count": null,
      "outputs": [
        {
          "output_type": "stream",
          "name": "stdout",
          "text": [
            "Enter your age35\n",
            "You are child\n"
          ]
        }
      ]
    },
    {
      "cell_type": "markdown",
      "source": [
        "For Loop -Multiple input with single condition"
      ],
      "metadata": {
        "id": "CYxCJdRR89DG"
      }
    },
    {
      "cell_type": "code",
      "source": [
        "lists=[12,45,78,94,65]\n",
        "for age in lists:\n",
        "  if(age<18):\n",
        "   print(\"You are adult\")\n",
        "  elif(age>60):\n",
        "    print(\"You are senior\")\n",
        "  else:\n",
        "      print(\"You are child\")"
      ],
      "metadata": {
        "colab": {
          "base_uri": "https://localhost:8080/"
        },
        "id": "Qcj0lm6iqOOB",
        "outputId": "f7beac2a-6ecb-48c1-a01f-185b6fbe62a1"
      },
      "execution_count": null,
      "outputs": [
        {
          "output_type": "stream",
          "name": "stdout",
          "text": [
            "You are adult\n",
            "You are child\n",
            "You are senior\n",
            "You are senior\n",
            "You are senior\n"
          ]
        }
      ]
    },
    {
      "cell_type": "markdown",
      "source": [
        "Range"
      ],
      "metadata": {
        "id": "PWe-MAA6ClNi"
      }
    },
    {
      "cell_type": "code",
      "source": [
        "range(1,10)\n",
        "for num in range(1,200):\n",
        "  print(num)"
      ],
      "metadata": {
        "colab": {
          "base_uri": "https://localhost:8080/"
        },
        "id": "XD7X5vp6Ck49",
        "outputId": "74b5f747-49a6-43c4-c222-35e9aa8ff3f0"
      },
      "execution_count": null,
      "outputs": [
        {
          "output_type": "stream",
          "name": "stdout",
          "text": [
            "1\n",
            "2\n",
            "3\n",
            "4\n",
            "5\n",
            "6\n",
            "7\n",
            "8\n",
            "9\n",
            "10\n",
            "11\n",
            "12\n",
            "13\n",
            "14\n",
            "15\n",
            "16\n",
            "17\n",
            "18\n",
            "19\n",
            "20\n",
            "21\n",
            "22\n",
            "23\n",
            "24\n",
            "25\n",
            "26\n",
            "27\n",
            "28\n",
            "29\n",
            "30\n",
            "31\n",
            "32\n",
            "33\n",
            "34\n",
            "35\n",
            "36\n",
            "37\n",
            "38\n",
            "39\n",
            "40\n",
            "41\n",
            "42\n",
            "43\n",
            "44\n",
            "45\n",
            "46\n",
            "47\n",
            "48\n",
            "49\n",
            "50\n",
            "51\n",
            "52\n",
            "53\n",
            "54\n",
            "55\n",
            "56\n",
            "57\n",
            "58\n",
            "59\n",
            "60\n",
            "61\n",
            "62\n",
            "63\n",
            "64\n",
            "65\n",
            "66\n",
            "67\n",
            "68\n",
            "69\n",
            "70\n",
            "71\n",
            "72\n",
            "73\n",
            "74\n",
            "75\n",
            "76\n",
            "77\n",
            "78\n",
            "79\n",
            "80\n",
            "81\n",
            "82\n",
            "83\n",
            "84\n",
            "85\n",
            "86\n",
            "87\n",
            "88\n",
            "89\n",
            "90\n",
            "91\n",
            "92\n",
            "93\n",
            "94\n",
            "95\n",
            "96\n",
            "97\n",
            "98\n",
            "99\n",
            "100\n",
            "101\n",
            "102\n",
            "103\n",
            "104\n",
            "105\n",
            "106\n",
            "107\n",
            "108\n",
            "109\n",
            "110\n",
            "111\n",
            "112\n",
            "113\n",
            "114\n",
            "115\n",
            "116\n",
            "117\n",
            "118\n",
            "119\n",
            "120\n",
            "121\n",
            "122\n",
            "123\n",
            "124\n",
            "125\n",
            "126\n",
            "127\n",
            "128\n",
            "129\n",
            "130\n",
            "131\n",
            "132\n",
            "133\n",
            "134\n",
            "135\n",
            "136\n",
            "137\n",
            "138\n",
            "139\n",
            "140\n",
            "141\n",
            "142\n",
            "143\n",
            "144\n",
            "145\n",
            "146\n",
            "147\n",
            "148\n",
            "149\n",
            "150\n",
            "151\n",
            "152\n",
            "153\n",
            "154\n",
            "155\n",
            "156\n",
            "157\n",
            "158\n",
            "159\n",
            "160\n",
            "161\n",
            "162\n",
            "163\n",
            "164\n",
            "165\n",
            "166\n",
            "167\n",
            "168\n",
            "169\n",
            "170\n",
            "171\n",
            "172\n",
            "173\n",
            "174\n",
            "175\n",
            "176\n",
            "177\n",
            "178\n",
            "179\n",
            "180\n",
            "181\n",
            "182\n",
            "183\n",
            "184\n",
            "185\n",
            "186\n",
            "187\n",
            "188\n",
            "189\n",
            "190\n",
            "191\n",
            "192\n",
            "193\n",
            "194\n",
            "195\n",
            "196\n",
            "197\n",
            "198\n",
            "199\n"
          ]
        }
      ]
    },
    {
      "cell_type": "code",
      "source": [
        "#Create a function, and list out the items in the list\n",
        "def SubfieldsInAI ():\n",
        "    print (\"Sub-fields in AI are:\")\n",
        "    print (\"Machine Learning\")\n",
        "    print (\"Neural Networks\")\n",
        "    print (\"Vision\")\n",
        "    print (\"Robotics\")\n",
        "    print (\"Speech Processing\")\n",
        "    print(\"Natural Language Processing\")\n",
        "SubfieldsInAI ()\n",
        "\n"
      ],
      "metadata": {
        "id": "wW4U20yJC9EK",
        "colab": {
          "base_uri": "https://localhost:8080/"
        },
        "outputId": "83768af1-1c97-43cb-e5ad-58e2bd83927a"
      },
      "execution_count": null,
      "outputs": [
        {
          "output_type": "stream",
          "name": "stdout",
          "text": [
            "Sub-fields in AI are:\n",
            "Machine Learning\n",
            "Neural Networks\n",
            "Vision\n",
            "Robotics\n",
            "Speech Processing\n",
            "Natural Language Processing\n"
          ]
        }
      ]
    },
    {
      "cell_type": "code",
      "source": [
        "# Create a function that checks whether the given number is Odd or Even\n",
        "def OddEven():\n",
        "    num=int(input(\"Enter a number:\"))\n",
        "    if((num%2)==1):\n",
        "        print(num,\"is odd number\")\n",
        "    else:\n",
        "        print(num,\"is even number\")\n",
        "OddEven()"
      ],
      "metadata": {
        "colab": {
          "base_uri": "https://localhost:8080/"
        },
        "id": "skFfT9I256oj",
        "outputId": "f77ddbcb-7011-4801-cf49-e90edc395dd4"
      },
      "execution_count": null,
      "outputs": [
        {
          "output_type": "stream",
          "name": "stdout",
          "text": [
            "Enter a number:52452 \n",
            "52452 is even number\n"
          ]
        }
      ]
    },
    {
      "cell_type": "code",
      "source": [
        "# Create a function that tells elegibility of marriage for male and female according to their age limit like 21 for male and 18 for female\n",
        "def ElegiblityForMarriage ():\n",
        "  Gender =(input(\"Your Gender\"))\n",
        "  Age=int(input(\"Your Age\"))\n",
        "  if(Gender==\"Male\"):\n",
        "    if(Age>21):\n",
        "      print(\"ELIGIBLE\")\n",
        "    else:\n",
        "      print(\"NOT ELIGIBLE\")\n",
        "\n",
        "ElegiblityForMarriage ()"
      ],
      "metadata": {
        "colab": {
          "base_uri": "https://localhost:8080/"
        },
        "id": "y98YAH0p9XLK",
        "outputId": "7ec220d1-10f5-4bd2-d9b9-68f8c3303c27"
      },
      "execution_count": null,
      "outputs": [
        {
          "output_type": "stream",
          "name": "stdout",
          "text": [
            "Your GenderMale\n",
            "Your Age21\n",
            "NOT ELIGIBLE\n"
          ]
        }
      ]
    },
    {
      "cell_type": "code",
      "source": [
        "# calculate the percentage of your 10th mark\n",
        "def FindPercent ():\n",
        "   print(\"Subject1= 98\")\n",
        "   print(\"Subject2= 87\")\n",
        "   print(\"Subject3= 95\")\n",
        "   print(\"Subject4= 95\")\n",
        "   print(\"Subject5= 93\")\n",
        "   print(\"Total : 468\")\n",
        "   percentage = 468/500*100\n",
        "   print(\"Percentage :\",percentage)\n",
        "FindPercent ()"
      ],
      "metadata": {
        "colab": {
          "base_uri": "https://localhost:8080/"
        },
        "id": "B63ayngK-1Nd",
        "outputId": "29105e05-f3df-4211-feea-8f61cdafbc46"
      },
      "execution_count": null,
      "outputs": [
        {
          "output_type": "stream",
          "name": "stdout",
          "text": [
            "Subject1= 98\n",
            "Subject2= 87\n",
            "Subject3= 95\n",
            "Subject4= 95\n",
            "Subject5= 93\n",
            "Total : 468\n",
            "Percentage : 93.60000000000001\n"
          ]
        }
      ]
    },
    {
      "cell_type": "code",
      "source": [
        "#print area and perimeter of triangle using class and functions"
      ],
      "metadata": {
        "id": "hflehbSfAyCJ"
      },
      "execution_count": null,
      "outputs": []
    },
    {
      "cell_type": "code",
      "source": [
        "def triangle ():\n",
        "  Height=int(input(\"Height:\"))\n",
        "  Breadth=int(input(\"Breadth:\"))\n",
        "  Area = (Height*Breadth)/2\n",
        "  print(\"Area formula:(Height*Breadth)/2\")\n",
        "  print(\"Area of Triangle: \",Area)\n",
        "  Height1=int(input(\"Height1:\"))\n",
        "  Height2=int(input(\"Height2:\"))\n",
        "  Breadth=int(input(\"Breadth:\"))\n",
        "  Perimeter_formula=Height1+Height2+Breadth\n",
        "  print(\"Perimeter_formula=Height1+Height2+Breadth\")\n",
        "  print (\"Perimeter of Triangle:\",Perimeter_formula)\n",
        "triangle ()"
      ],
      "metadata": {
        "colab": {
          "base_uri": "https://localhost:8080/"
        },
        "id": "87EWVLVVA1aw",
        "outputId": "c7336566-8a66-4e46-f90f-c0e34d0bb173"
      },
      "execution_count": null,
      "outputs": [
        {
          "output_type": "stream",
          "name": "stdout",
          "text": [
            "Height:32\n",
            "Breadth:34\n",
            "Area formula:(Height*Breadth)/2\n",
            "Area of Triangle:  544.0\n",
            "Height1:2\n",
            "Height2:4\n",
            "Breadth:4\n",
            "Perimeter_formula=Height1+Height2+Breadth\n",
            "Perimeter of Triangle: 10\n"
          ]
        }
      ]
    },
    {
      "cell_type": "code",
      "source": [
        "class AllFunctions:\n",
        "    def SubfieldsInAI(self):\n",
        "        print(\"Sub-fields in AI are:\")\n",
        "        print(\"Machine Learning\")\n",
        "        print(\"Neural Networks\")\n",
        "        print(\"Vision\")\n",
        "        print(\"Robotics\")\n",
        "        print(\"Speech Processing\")\n",
        "        print(\"Natural Language Processing\")\n",
        "\n",
        "    def OddEven(self):\n",
        "        num = int(input(\"Enter a number: \"))\n",
        "        if (num % 2) == 1:\n",
        "            print(num, \"is an odd number\")\n",
        "        else:\n",
        "            print(num, \"is an even number\")\n",
        "\n",
        "    def EligibilityForMarriage(self):\n",
        "        Gender = input(\"Your Gender: \")\n",
        "        Age = int(input(\"Your Age: \"))\n",
        "        if Gender.lower() == \"male\":\n",
        "            if Age > 21:\n",
        "                print(\"ELIGIBLE\")\n",
        "            else:\n",
        "                print(\"NOT ELIGIBLE\")\n",
        "        elif Gender.lower() == \"female\":\n",
        "            if Age > 18:\n",
        "                print(\"ELIGIBLE\")\n",
        "            else:\n",
        "                print(\"NOT ELIGIBLE\")\n",
        "        else:\n",
        "            print(\"Invalid Gender\")\n",
        "\n",
        "    def FindPercent(self):\n",
        "        print(\"Subject1= 98\")\n",
        "        print(\"Subject2= 87\")\n",
        "        print(\"Subject3= 95\")\n",
        "        print(\"Subject4= 95\")\n",
        "        print(\"Subject5= 93\")\n",
        "        print(\"Total: 468\")\n",
        "        percentage = 468 / 500 * 100\n",
        "        print(\"Percentage:\", percentage)\n",
        "\n",
        "    def Triangle(self):\n",
        "        Height = int(input(\"Height: \"))\n",
        "        Breadth = int(input(\"Breadth: \"))\n",
        "        Area = (Height * Breadth) / 2\n",
        "        print(\"Area formula: (Height * Breadth) / 2\")\n",
        "        print(\"Area of Triangle:\", Area)\n",
        "\n",
        "        Height1 = int(input(\"Height1: \"))\n",
        "        Height2 = int(input(\"Height2: \"))\n",
        "        Breadth = int(input(\"Breadth: \"))\n",
        "        Perimeter_formula = Height1 + Height2 + Breadth\n",
        "        print(\"Perimeter formula: Height1 + Height2 + Breadth\")\n",
        "        print(\"Perimeter of Triangle:\", Perimeter_formula)\n",
        "\n",
        "# Create an instance of the class\n",
        "functions = AllFunctions()\n",
        "\n",
        "# Call the methods\n",
        "functions.SubfieldsInAI()\n",
        "functions.OddEven()\n",
        "functions.EligibilityForMarriage()\n",
        "functions.FindPercent()\n",
        "functions.Triangle()\n"
      ],
      "metadata": {
        "colab": {
          "base_uri": "https://localhost:8080/"
        },
        "id": "XAOFFXQIH154",
        "outputId": "35ed7595-8699-47be-a5c3-4cc4db01ba59"
      },
      "execution_count": 2,
      "outputs": [
        {
          "output_type": "stream",
          "name": "stdout",
          "text": [
            "Sub-fields in AI are:\n",
            "Machine Learning\n",
            "Neural Networks\n",
            "Vision\n",
            "Robotics\n",
            "Speech Processing\n",
            "Natural Language Processing\n",
            "Enter a number: 12\n",
            "12 is an even number\n",
            "Your Gender: male\n",
            "Your Age: 40\n",
            "ELIGIBLE\n",
            "Subject1= 98\n",
            "Subject2= 87\n",
            "Subject3= 95\n",
            "Subject4= 95\n",
            "Subject5= 93\n",
            "Total: 468\n",
            "Percentage: 93.60000000000001\n",
            "Height: 155\n",
            "Breadth: 4\n",
            "Area formula: (Height * Breadth) / 2\n",
            "Area of Triangle: 310.0\n",
            "Height1: 4\n",
            "Height2: 4\n",
            "Breadth: 4\n",
            "Perimeter formula: Height1 + Height2 + Breadth\n",
            "Perimeter of Triangle: 12\n"
          ]
        }
      ]
    },
    {
      "cell_type": "code",
      "source": [],
      "metadata": {
        "id": "VS8lpnmiH1dc"
      },
      "execution_count": null,
      "outputs": []
    }
  ]
}